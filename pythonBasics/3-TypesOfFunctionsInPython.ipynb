{
 "cells": [
  {
   "cell_type": "markdown",
   "metadata": {
    "colab_type": "text",
    "id": "view-in-github"
   },
   "source": [
    "<a href=\"https://colab.research.google.com/github/jcdevaney/imc2023/blob/main/week3/typesOfFunctions.ipynb\" target=\"_parent\"><img src=\"https://colab.research.google.com/assets/colab-badge.svg\" alt=\"Open In Colab\"/></a>"
   ]
  },
  {
   "cell_type": "markdown",
   "metadata": {
    "id": "D0IYBLyY_mJu"
   },
   "source": [
    "# Types of Functions"
   ]
  },
  {
   "cell_type": "code",
   "execution_count": null,
   "metadata": {
    "colab": {
     "base_uri": "https://localhost:8080/"
    },
    "id": "Hmo8TKSy_k41",
    "outputId": "bed99ed1-a370-4eb7-dcf0-83b04242ce31"
   },
   "outputs": [
    {
     "name": "stdout",
     "output_type": "stream",
     "text": [
      "Cloning into 'imc2023'...\n",
      "remote: Enumerating objects: 78, done.\u001b[K\n",
      "remote: Counting objects: 100% (78/78), done.\u001b[K\n",
      "remote: Compressing objects: 100% (74/74), done.\u001b[K\n",
      "remote: Total 78 (delta 30), reused 14 (delta 1), pack-reused 0\u001b[K\n",
      "Unpacking objects: 100% (78/78), 5.83 MiB | 6.40 MiB/s, done.\n"
     ]
    }
   ],
   "source": [
    "# create a string\n",
    "!git clone https://github.com/jcdevaney/imc2023.git\n",
    "filename = 'imc2023/audioFiles/avm.wav'"
   ]
  },
  {
   "cell_type": "markdown",
   "metadata": {
    "id": "eY9KIFBW_uoA"
   },
   "source": [
    "## Example of a Built-in Function"
   ]
  },
  {
   "cell_type": "code",
   "execution_count": null,
   "metadata": {
    "colab": {
     "base_uri": "https://localhost:8080/"
    },
    "id": "PR5GDMWY_k43",
    "outputId": "bee060cd-43e9-41c1-9cc5-a1d92f7d45e5"
   },
   "outputs": [
    {
     "name": "stdout",
     "output_type": "stream",
     "text": [
      "imc2023/audioFiles/avm.wav\n"
     ]
    }
   ],
   "source": [
    "# print string\n",
    "print(filename)"
   ]
  },
  {
   "cell_type": "markdown",
   "metadata": {
    "id": "jAgYSIlA_sCH"
   },
   "source": [
    "## Example of an Imported Function"
   ]
  },
  {
   "cell_type": "code",
   "execution_count": null,
   "metadata": {
    "id": "TpkhXzDH_k44"
   },
   "outputs": [],
   "source": [
    "# import a library and use a function from it\n",
    "import librosa\n",
    "sig , sr = librosa.load(filename)"
   ]
  },
  {
   "cell_type": "markdown",
   "metadata": {
    "id": "5Ihxgw6Z_21t"
   },
   "source": [
    "## Examples of Built-in Methods"
   ]
  },
  {
   "cell_type": "code",
   "execution_count": null,
   "metadata": {
    "colab": {
     "base_uri": "https://localhost:8080/",
     "height": 35
    },
    "id": "RPV32yzs_k44",
    "outputId": "f53d0707-dbad-4c92-955f-95d3ad0c5494"
   },
   "outputs": [
    {
     "data": {
      "application/vnd.google.colaboratory.intrinsic+json": {
       "type": "string"
      },
      "text/plain": [
       "'Imc2023/audiofiles/avm.wav'"
      ]
     },
     "execution_count": 8,
     "metadata": {},
     "output_type": "execute_result"
    }
   ],
   "source": [
    "# use a built in method of the string object\n",
    "filename.capitalize()"
   ]
  },
  {
   "cell_type": "code",
   "execution_count": null,
   "metadata": {
    "colab": {
     "base_uri": "https://localhost:8080/"
    },
    "id": "UKSOoAgT_k45",
    "outputId": "213c95e7-cfa0-41bf-fb0d-228c43d30036"
   },
   "outputs": [
    {
     "data": {
      "text/plain": [
       "False"
      ]
     },
     "execution_count": 9,
     "metadata": {},
     "output_type": "execute_result"
    }
   ],
   "source": [
    "filename.isnumeric()"
   ]
  },
  {
   "cell_type": "code",
   "execution_count": null,
   "metadata": {
    "colab": {
     "base_uri": "https://localhost:8080/",
     "height": 35
    },
    "id": "H_qovfAQ_k45",
    "outputId": "ab367235-fa0e-4ae7-cfc4-e4d3db584f2b"
   },
   "outputs": [
    {
     "data": {
      "application/vnd.google.colaboratory.intrinsic+json": {
       "type": "string"
      },
      "text/plain": [
       "'IMC2023/AUDIOFILES/AVM.WAV'"
      ]
     },
     "execution_count": 10,
     "metadata": {},
     "output_type": "execute_result"
    }
   ],
   "source": [
    "filename.upper()"
   ]
  },
  {
   "cell_type": "code",
   "execution_count": null,
   "metadata": {
    "id": "3SM0CMtL_k45"
   },
   "outputs": [],
   "source": []
  }
 ],
 "metadata": {
  "colab": {
   "include_colab_link": true,
   "provenance": []
  },
  "kernelspec": {
   "display_name": "Python 3",
   "language": "python",
   "name": "python3"
  },
  "language_info": {
   "codemirror_mode": {
    "name": "ipython",
    "version": 3
   },
   "file_extension": ".py",
   "mimetype": "text/x-python",
   "name": "python",
   "nbconvert_exporter": "python",
   "pygments_lexer": "ipython3",
   "version": "3.8.8"
  }
 },
 "nbformat": 4,
 "nbformat_minor": 1
}
